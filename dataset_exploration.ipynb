{
  "cells": [
    {
      "cell_type": "code",
      "execution_count": 13,
      "metadata": {
        "id": "ECGjcmBQ3SuN"
      },
      "outputs": [
        {
          "name": "stdout",
          "output_type": "stream",
          "text": [
            "Note: you may need to restart the kernel to use updated packages.\n"
          ]
        }
      ],
      "source": [
        "%pip install opendatasets --upgrade --quiet\n",
        "\n",
        "import opendatasets as od\n",
        "import os\n",
        "import pandas as pd"
      ]
    },
    {
      "cell_type": "code",
      "execution_count": 4,
      "metadata": {},
      "outputs": [],
      "source": [
        "# use either small or large dataset\n",
        "SMALL_DATASET = True"
      ]
    },
    {
      "cell_type": "code",
      "execution_count": 3,
      "metadata": {
        "id": "iJRb64gL3SuO"
      },
      "outputs": [
        {
          "name": "stdout",
          "output_type": "stream",
          "text": [
            "Skipping, found downloaded files in \"dataset\\fashion-product-images-small\" (use force=True to force download)\n"
          ]
        }
      ],
      "source": [
        "# insert ypu kaggle  username and key\n",
        "if (SMALL_DATASET):\n",
        "    od.download('https://www.kaggle.com/datasets/paramaggarwal/fashion-product-images-small',data_dir=\"dataset\")\n",
        "else:\n",
        "    od.download('https://www.kaggle.com/datasets/paramaggarwal/fashion-product-images-dataset',data_dir=\"dataset\")"
      ]
    },
    {
      "cell_type": "code",
      "execution_count": 15,
      "metadata": {},
      "outputs": [],
      "source": [
        "if (SMALL_DATASET):\n",
        "    df_data = pd.read_csv(\"dataset/fashion-product-images-small/styles.csv\", on_bad_lines='skip')\n",
        "    image_files = os.listdir(\"dataset/fashion-product-images-small/images\")\n",
        "else:\n",
        "    df_data = pd.read_csv(\"dataset/fashion-product-images-dataset/styles.csv\", on_bad_lines='skip')\n",
        "    image_files = os.listdir(\"dataset/fashion-product-images-dataset/images\")"
      ]
    },
    {
      "cell_type": "markdown",
      "metadata": {},
      "source": [
        "### Clean Data from nulls and non existing images"
      ]
    },
    {
      "cell_type": "code",
      "execution_count": 16,
      "metadata": {},
      "outputs": [
        {
          "data": {
            "text/plain": [
              "id                      0\n",
              "gender                  0\n",
              "masterCategory          0\n",
              "subCategory             0\n",
              "articleType             0\n",
              "baseColour             15\n",
              "season                 21\n",
              "year                    1\n",
              "usage                 317\n",
              "productDisplayName      7\n",
              "dtype: int64"
            ]
          },
          "execution_count": 16,
          "metadata": {},
          "output_type": "execute_result"
        }
      ],
      "source": [
        "df_data.isna().sum()"
      ]
    },
    {
      "cell_type": "code",
      "execution_count": 17,
      "metadata": {},
      "outputs": [],
      "source": [
        "df_data.dropna(inplace=True)"
      ]
    },
    {
      "cell_type": "code",
      "execution_count": 18,
      "metadata": {},
      "outputs": [],
      "source": [
        "#check if file exists\n",
        "df_data['file_found'] = df_data['id'].apply(lambda x: f\"{x}.jpg\" in image_files)"
      ]
    },
    {
      "cell_type": "code",
      "execution_count": 20,
      "metadata": {},
      "outputs": [
        {
          "data": {
            "text/plain": [
              "file_found\n",
              "True     44072\n",
              "False        5\n",
              "Name: count, dtype: int64"
            ]
          },
          "execution_count": 20,
          "metadata": {},
          "output_type": "execute_result"
        }
      ],
      "source": [
        "df_data['file_found'].value_counts()"
      ]
    },
    {
      "cell_type": "code",
      "execution_count": 22,
      "metadata": {},
      "outputs": [],
      "source": [
        "mask = df_data['file_found']\n",
        "df_data = df_data[mask].reset_index(drop=True)"
      ]
    },
    {
      "cell_type": "markdown",
      "metadata": {},
      "source": [
        "### Add paths to images and review dataset"
      ]
    },
    {
      "cell_type": "code",
      "execution_count": 41,
      "metadata": {},
      "outputs": [],
      "source": [
        "# insert ypu kaggle  username and key\n",
        "if (SMALL_DATASET):\n",
        "    df_data['filename'] = df_data['id'].apply(lambda x: os.path.join(\"dataset/fashion-product-images-small/images/\",str(x)+\".jpg\"))\n",
        "else:\n",
        "    df_data['filename'] = df_data['id'].apply(lambda x: os.path.join(\"dataset/fashion-product-images-dataset/images/\",str(x)+\".jpg\"))\n"
      ]
    },
    {
      "cell_type": "code",
      "execution_count": 42,
      "metadata": {},
      "outputs": [
        {
          "data": {
            "text/html": [
              "<div>\n",
              "<style scoped>\n",
              "    .dataframe tbody tr th:only-of-type {\n",
              "        vertical-align: middle;\n",
              "    }\n",
              "\n",
              "    .dataframe tbody tr th {\n",
              "        vertical-align: top;\n",
              "    }\n",
              "\n",
              "    .dataframe thead th {\n",
              "        text-align: right;\n",
              "    }\n",
              "</style>\n",
              "<table border=\"1\" class=\"dataframe\">\n",
              "  <thead>\n",
              "    <tr style=\"text-align: right;\">\n",
              "      <th></th>\n",
              "      <th>id</th>\n",
              "      <th>gender</th>\n",
              "      <th>masterCategory</th>\n",
              "      <th>subCategory</th>\n",
              "      <th>articleType</th>\n",
              "      <th>baseColour</th>\n",
              "      <th>season</th>\n",
              "      <th>year</th>\n",
              "      <th>usage</th>\n",
              "      <th>productDisplayName</th>\n",
              "      <th>file_found</th>\n",
              "      <th>filename</th>\n",
              "    </tr>\n",
              "  </thead>\n",
              "  <tbody>\n",
              "    <tr>\n",
              "      <th>0</th>\n",
              "      <td>15970</td>\n",
              "      <td>Men</td>\n",
              "      <td>Apparel</td>\n",
              "      <td>Topwear</td>\n",
              "      <td>Shirts</td>\n",
              "      <td>Navy Blue</td>\n",
              "      <td>Fall</td>\n",
              "      <td>2011.0</td>\n",
              "      <td>Casual</td>\n",
              "      <td>Turtle Check Men Navy Blue Shirt</td>\n",
              "      <td>True</td>\n",
              "      <td>dataset/fashion-product-images-small/images/15...</td>\n",
              "    </tr>\n",
              "    <tr>\n",
              "      <th>1</th>\n",
              "      <td>39386</td>\n",
              "      <td>Men</td>\n",
              "      <td>Apparel</td>\n",
              "      <td>Bottomwear</td>\n",
              "      <td>Jeans</td>\n",
              "      <td>Blue</td>\n",
              "      <td>Summer</td>\n",
              "      <td>2012.0</td>\n",
              "      <td>Casual</td>\n",
              "      <td>Peter England Men Party Blue Jeans</td>\n",
              "      <td>True</td>\n",
              "      <td>dataset/fashion-product-images-small/images/39...</td>\n",
              "    </tr>\n",
              "    <tr>\n",
              "      <th>2</th>\n",
              "      <td>59263</td>\n",
              "      <td>Women</td>\n",
              "      <td>Accessories</td>\n",
              "      <td>Watches</td>\n",
              "      <td>Watches</td>\n",
              "      <td>Silver</td>\n",
              "      <td>Winter</td>\n",
              "      <td>2016.0</td>\n",
              "      <td>Casual</td>\n",
              "      <td>Titan Women Silver Watch</td>\n",
              "      <td>True</td>\n",
              "      <td>dataset/fashion-product-images-small/images/59...</td>\n",
              "    </tr>\n",
              "    <tr>\n",
              "      <th>3</th>\n",
              "      <td>21379</td>\n",
              "      <td>Men</td>\n",
              "      <td>Apparel</td>\n",
              "      <td>Bottomwear</td>\n",
              "      <td>Track Pants</td>\n",
              "      <td>Black</td>\n",
              "      <td>Fall</td>\n",
              "      <td>2011.0</td>\n",
              "      <td>Casual</td>\n",
              "      <td>Manchester United Men Solid Black Track Pants</td>\n",
              "      <td>True</td>\n",
              "      <td>dataset/fashion-product-images-small/images/21...</td>\n",
              "    </tr>\n",
              "    <tr>\n",
              "      <th>4</th>\n",
              "      <td>53759</td>\n",
              "      <td>Men</td>\n",
              "      <td>Apparel</td>\n",
              "      <td>Topwear</td>\n",
              "      <td>Tshirts</td>\n",
              "      <td>Grey</td>\n",
              "      <td>Summer</td>\n",
              "      <td>2012.0</td>\n",
              "      <td>Casual</td>\n",
              "      <td>Puma Men Grey T-shirt</td>\n",
              "      <td>True</td>\n",
              "      <td>dataset/fashion-product-images-small/images/53...</td>\n",
              "    </tr>\n",
              "  </tbody>\n",
              "</table>\n",
              "</div>"
            ],
            "text/plain": [
              "      id gender masterCategory subCategory  articleType baseColour  season  \\\n",
              "0  15970    Men        Apparel     Topwear       Shirts  Navy Blue    Fall   \n",
              "1  39386    Men        Apparel  Bottomwear        Jeans       Blue  Summer   \n",
              "2  59263  Women    Accessories     Watches      Watches     Silver  Winter   \n",
              "3  21379    Men        Apparel  Bottomwear  Track Pants      Black    Fall   \n",
              "4  53759    Men        Apparel     Topwear      Tshirts       Grey  Summer   \n",
              "\n",
              "     year   usage                             productDisplayName  file_found  \\\n",
              "0  2011.0  Casual               Turtle Check Men Navy Blue Shirt        True   \n",
              "1  2012.0  Casual             Peter England Men Party Blue Jeans        True   \n",
              "2  2016.0  Casual                       Titan Women Silver Watch        True   \n",
              "3  2011.0  Casual  Manchester United Men Solid Black Track Pants        True   \n",
              "4  2012.0  Casual                          Puma Men Grey T-shirt        True   \n",
              "\n",
              "                                            filename  \n",
              "0  dataset/fashion-product-images-small/images/15...  \n",
              "1  dataset/fashion-product-images-small/images/39...  \n",
              "2  dataset/fashion-product-images-small/images/59...  \n",
              "3  dataset/fashion-product-images-small/images/21...  \n",
              "4  dataset/fashion-product-images-small/images/53...  "
            ]
          },
          "execution_count": 42,
          "metadata": {},
          "output_type": "execute_result"
        }
      ],
      "source": [
        "df_data.head()"
      ]
    },
    {
      "cell_type": "code",
      "execution_count": 43,
      "metadata": {},
      "outputs": [],
      "source": [
        "#Reduce size of the dataset for test purposes\n",
        "df_data = df_data.head(2000)"
      ]
    },
    {
      "cell_type": "markdown",
      "metadata": {},
      "source": [
        "### Convert images to the numpy 3d matrix in order to later use them in the NN.\n",
        "##### 3d matrix represents width, height and 3 colours"
      ]
    },
    {
      "cell_type": "code",
      "execution_count": 44,
      "metadata": {},
      "outputs": [],
      "source": [
        "from keras.preprocessing.image import load_img, img_to_array\n",
        "import numpy as np"
      ]
    },
    {
      "cell_type": "code",
      "execution_count": 45,
      "metadata": {},
      "outputs": [],
      "source": [
        "#normalize images by fixin width and height\n",
        "IMAGE_WIDTH = 50\n",
        "IMAGE_HEIGHT = 50"
      ]
    },
    {
      "cell_type": "code",
      "execution_count": 61,
      "metadata": {},
      "outputs": [],
      "source": [
        "images = []\n",
        "processed_count = 0"
      ]
    },
    {
      "cell_type": "code",
      "execution_count": 62,
      "metadata": {},
      "outputs": [],
      "source": [
        "def process_image(image_path):\n",
        "    image = load_img(image_path, target_size=(IMAGE_WIDTH, IMAGE_HEIGHT,3))\n",
        "    image = img_to_array(image)\n",
        "    return image"
      ]
    },
    {
      "cell_type": "code",
      "execution_count": 64,
      "metadata": {},
      "outputs": [],
      "source": [
        "image =load_img(df_data['filename'][0], target_size=(IMAGE_WIDTH, IMAGE_HEIGHT,3))"
      ]
    },
    {
      "cell_type": "code",
      "execution_count": 65,
      "metadata": {},
      "outputs": [],
      "source": [
        "for file_path in df_data['filename']:\n",
        "    images.append(process_image(file_path))"
      ]
    },
    {
      "cell_type": "code",
      "execution_count": 67,
      "metadata": {},
      "outputs": [],
      "source": [
        "images = np.array(images)"
      ]
    },
    {
      "cell_type": "code",
      "execution_count": 68,
      "metadata": {},
      "outputs": [
        {
          "data": {
            "text/plain": [
              "(2000, 50, 50, 3)"
            ]
          },
          "execution_count": 68,
          "metadata": {},
          "output_type": "execute_result"
        }
      ],
      "source": [
        "images.shape"
      ]
    },
    {
      "cell_type": "markdown",
      "metadata": {},
      "source": [
        "### Split Dataset and Encode Labels"
      ]
    },
    {
      "cell_type": "code",
      "execution_count": 72,
      "metadata": {},
      "outputs": [],
      "source": [
        "from sklearn.preprocessing import LabelBinarizer\n",
        "from sklearn.model_selection import train_test_split"
      ]
    },
    {
      "cell_type": "code",
      "execution_count": 79,
      "metadata": {},
      "outputs": [],
      "source": [
        "#for test purposes let's start with 2 lables\n",
        "output_lables = [\"articleType\",\"baseColour\"]"
      ]
    },
    {
      "cell_type": "code",
      "execution_count": 81,
      "metadata": {},
      "outputs": [],
      "source": [
        "(X_train, X_test, \n",
        " y_train,y_test) = train_test_split(images,df_data[output_lables],\n",
        "                                                    test_size=0.2, random_state=42)"
      ]
    },
    {
      "cell_type": "code",
      "execution_count": 82,
      "metadata": {},
      "outputs": [
        {
          "data": {
            "text/html": [
              "<div>\n",
              "<style scoped>\n",
              "    .dataframe tbody tr th:only-of-type {\n",
              "        vertical-align: middle;\n",
              "    }\n",
              "\n",
              "    .dataframe tbody tr th {\n",
              "        vertical-align: top;\n",
              "    }\n",
              "\n",
              "    .dataframe thead th {\n",
              "        text-align: right;\n",
              "    }\n",
              "</style>\n",
              "<table border=\"1\" class=\"dataframe\">\n",
              "  <thead>\n",
              "    <tr style=\"text-align: right;\">\n",
              "      <th></th>\n",
              "      <th>articleType</th>\n",
              "      <th>baseColour</th>\n",
              "    </tr>\n",
              "  </thead>\n",
              "  <tbody>\n",
              "    <tr>\n",
              "      <th>968</th>\n",
              "      <td>Kurta Sets</td>\n",
              "      <td>Pink</td>\n",
              "    </tr>\n",
              "    <tr>\n",
              "      <th>240</th>\n",
              "      <td>Casual Shoes</td>\n",
              "      <td>Brown</td>\n",
              "    </tr>\n",
              "    <tr>\n",
              "      <th>819</th>\n",
              "      <td>Wallets</td>\n",
              "      <td>Red</td>\n",
              "    </tr>\n",
              "    <tr>\n",
              "      <th>692</th>\n",
              "      <td>Handbags</td>\n",
              "      <td>Pink</td>\n",
              "    </tr>\n",
              "    <tr>\n",
              "      <th>420</th>\n",
              "      <td>Tshirts</td>\n",
              "      <td>Red</td>\n",
              "    </tr>\n",
              "  </tbody>\n",
              "</table>\n",
              "</div>"
            ],
            "text/plain": [
              "      articleType baseColour\n",
              "968    Kurta Sets       Pink\n",
              "240  Casual Shoes      Brown\n",
              "819       Wallets        Red\n",
              "692      Handbags       Pink\n",
              "420       Tshirts        Red"
            ]
          },
          "execution_count": 82,
          "metadata": {},
          "output_type": "execute_result"
        }
      ],
      "source": [
        "y_train.head()"
      ]
    },
    {
      "cell_type": "code",
      "execution_count": 84,
      "metadata": {},
      "outputs": [],
      "source": [
        "lb_article_type = LabelBinarizer()\n",
        "lb_colour = LabelBinarizer()\n",
        "\n",
        "article_type_train = lb_article_type.fit_transform(y_train[\"articleType\"].to_numpy())\n",
        "colour_train = lb_colour.fit_transform(y_train[\"baseColour\"].to_numpy())\n",
        "\n",
        "article_type_test = lb_article_type.transform(y_train[\"articleType\"].to_numpy())\n",
        "colour_test = lb_colour.transform(y_train[\"baseColour\"].to_numpy())\n"
      ]
    }
  ],
  "metadata": {
    "colab": {
      "provenance": []
    },
    "kernelspec": {
      "display_name": "Python 3",
      "name": "python3"
    },
    "language_info": {
      "codemirror_mode": {
        "name": "ipython",
        "version": 3
      },
      "file_extension": ".py",
      "mimetype": "text/x-python",
      "name": "python",
      "nbconvert_exporter": "python",
      "pygments_lexer": "ipython3",
      "version": "3.11.7"
    }
  },
  "nbformat": 4,
  "nbformat_minor": 0
}
