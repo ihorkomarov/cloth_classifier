{
 "cells": [
  {
   "cell_type": "code",
   "execution_count": 18,
   "id": "c1909b10",
   "metadata": {},
   "outputs": [],
   "source": [
    "import numpy as np\n",
    "import pandas as pd\n",
    "import os\n",
    "import tensorflow as tf\n",
    "from tensorflow.keras.layers import Conv2D, MaxPooling2D, GlobalAveragePooling2D, Activation, Dropout, Flatten, Dense, Input, Layer\n",
    "from tensorflow.keras.applications import VGG16\n",
    "from tensorflow.keras.models import Model, Sequential\n",
    "from tensorflow.keras.preprocessing.image import ImageDataGenerator, load_img, img_to_array\n",
    "from tensorflow.keras.applications.xception import Xception\n",
    "from tensorflow.keras.applications.resnet50 import ResNet50 \n",
    "from tensorflow.keras.layers import BatchNormalization ,GlobalMaxPool2D\n",
    "from tensorflow.keras.optimizers import Adam \n",
    "from tensorflow.keras.callbacks import EarlyStopping ,ReduceLROnPlateau ,ModelCheckpoint\n",
    "from tensorflow.keras import models\n",
    "from tensorflow.keras import layers\n",
    "import matplotlib.pyplot as plt\n",
    "import seaborn as sns\n",
    "from sklearn.preprocessing import MultiLabelBinarizer"
   ]
  },
  {
   "cell_type": "code",
   "execution_count": 3,
   "id": "f179cf22",
   "metadata": {
    "scrolled": false
   },
   "outputs": [
    {
     "name": "stderr",
     "output_type": "stream",
     "text": [
      "C:\\Users\\tthoa\\AppData\\Local\\Temp\\ipykernel_12540\\3880628677.py:1: FutureWarning: The error_bad_lines argument has been deprecated and will be removed in a future version. Use on_bad_lines in the future.\n",
      "\n",
      "\n",
      "  df= pd.read_csv('C:/Techlabs/myntradataset/styles.csv',error_bad_lines=False)\n",
      "Skipping line 6044: expected 10 fields, saw 11\n",
      "Skipping line 6569: expected 10 fields, saw 11\n",
      "Skipping line 7399: expected 10 fields, saw 11\n",
      "Skipping line 7939: expected 10 fields, saw 11\n",
      "Skipping line 9026: expected 10 fields, saw 11\n",
      "Skipping line 10264: expected 10 fields, saw 11\n",
      "Skipping line 10427: expected 10 fields, saw 11\n",
      "Skipping line 10905: expected 10 fields, saw 11\n",
      "Skipping line 11373: expected 10 fields, saw 11\n",
      "Skipping line 11945: expected 10 fields, saw 11\n",
      "Skipping line 14112: expected 10 fields, saw 11\n",
      "Skipping line 14532: expected 10 fields, saw 11\n",
      "Skipping line 15076: expected 10 fields, saw 12\n",
      "Skipping line 29906: expected 10 fields, saw 11\n",
      "Skipping line 31625: expected 10 fields, saw 11\n",
      "Skipping line 33020: expected 10 fields, saw 11\n",
      "Skipping line 35748: expected 10 fields, saw 11\n",
      "Skipping line 35962: expected 10 fields, saw 11\n",
      "Skipping line 37770: expected 10 fields, saw 11\n",
      "Skipping line 38105: expected 10 fields, saw 11\n",
      "Skipping line 38275: expected 10 fields, saw 11\n",
      "Skipping line 38404: expected 10 fields, saw 12\n",
      "\n"
     ]
    },
    {
     "data": {
      "text/html": [
       "<div>\n",
       "<style scoped>\n",
       "    .dataframe tbody tr th:only-of-type {\n",
       "        vertical-align: middle;\n",
       "    }\n",
       "\n",
       "    .dataframe tbody tr th {\n",
       "        vertical-align: top;\n",
       "    }\n",
       "\n",
       "    .dataframe thead th {\n",
       "        text-align: right;\n",
       "    }\n",
       "</style>\n",
       "<table border=\"1\" class=\"dataframe\">\n",
       "  <thead>\n",
       "    <tr style=\"text-align: right;\">\n",
       "      <th></th>\n",
       "      <th>id</th>\n",
       "      <th>gender</th>\n",
       "      <th>masterCategory</th>\n",
       "      <th>subCategory</th>\n",
       "      <th>articleType</th>\n",
       "      <th>baseColour</th>\n",
       "      <th>season</th>\n",
       "      <th>year</th>\n",
       "      <th>usage</th>\n",
       "      <th>productDisplayName</th>\n",
       "    </tr>\n",
       "  </thead>\n",
       "  <tbody>\n",
       "    <tr>\n",
       "      <th>0</th>\n",
       "      <td>15970</td>\n",
       "      <td>Men</td>\n",
       "      <td>Apparel</td>\n",
       "      <td>Topwear</td>\n",
       "      <td>Shirts</td>\n",
       "      <td>Navy Blue</td>\n",
       "      <td>Fall</td>\n",
       "      <td>2011.0</td>\n",
       "      <td>Casual</td>\n",
       "      <td>Turtle Check Men Navy Blue Shirt</td>\n",
       "    </tr>\n",
       "    <tr>\n",
       "      <th>1</th>\n",
       "      <td>39386</td>\n",
       "      <td>Men</td>\n",
       "      <td>Apparel</td>\n",
       "      <td>Bottomwear</td>\n",
       "      <td>Jeans</td>\n",
       "      <td>Blue</td>\n",
       "      <td>Summer</td>\n",
       "      <td>2012.0</td>\n",
       "      <td>Casual</td>\n",
       "      <td>Peter England Men Party Blue Jeans</td>\n",
       "    </tr>\n",
       "    <tr>\n",
       "      <th>2</th>\n",
       "      <td>59263</td>\n",
       "      <td>Women</td>\n",
       "      <td>Accessories</td>\n",
       "      <td>Watches</td>\n",
       "      <td>Watches</td>\n",
       "      <td>Silver</td>\n",
       "      <td>Winter</td>\n",
       "      <td>2016.0</td>\n",
       "      <td>Casual</td>\n",
       "      <td>Titan Women Silver Watch</td>\n",
       "    </tr>\n",
       "    <tr>\n",
       "      <th>3</th>\n",
       "      <td>21379</td>\n",
       "      <td>Men</td>\n",
       "      <td>Apparel</td>\n",
       "      <td>Bottomwear</td>\n",
       "      <td>Track Pants</td>\n",
       "      <td>Black</td>\n",
       "      <td>Fall</td>\n",
       "      <td>2011.0</td>\n",
       "      <td>Casual</td>\n",
       "      <td>Manchester United Men Solid Black Track Pants</td>\n",
       "    </tr>\n",
       "    <tr>\n",
       "      <th>4</th>\n",
       "      <td>53759</td>\n",
       "      <td>Men</td>\n",
       "      <td>Apparel</td>\n",
       "      <td>Topwear</td>\n",
       "      <td>Tshirts</td>\n",
       "      <td>Grey</td>\n",
       "      <td>Summer</td>\n",
       "      <td>2012.0</td>\n",
       "      <td>Casual</td>\n",
       "      <td>Puma Men Grey T-shirt</td>\n",
       "    </tr>\n",
       "  </tbody>\n",
       "</table>\n",
       "</div>"
      ],
      "text/plain": [
       "      id gender masterCategory subCategory  articleType baseColour  season  \\\n",
       "0  15970    Men        Apparel     Topwear       Shirts  Navy Blue    Fall   \n",
       "1  39386    Men        Apparel  Bottomwear        Jeans       Blue  Summer   \n",
       "2  59263  Women    Accessories     Watches      Watches     Silver  Winter   \n",
       "3  21379    Men        Apparel  Bottomwear  Track Pants      Black    Fall   \n",
       "4  53759    Men        Apparel     Topwear      Tshirts       Grey  Summer   \n",
       "\n",
       "     year   usage                             productDisplayName  \n",
       "0  2011.0  Casual               Turtle Check Men Navy Blue Shirt  \n",
       "1  2012.0  Casual             Peter England Men Party Blue Jeans  \n",
       "2  2016.0  Casual                       Titan Women Silver Watch  \n",
       "3  2011.0  Casual  Manchester United Men Solid Black Track Pants  \n",
       "4  2012.0  Casual                          Puma Men Grey T-shirt  "
      ]
     },
     "execution_count": 3,
     "metadata": {},
     "output_type": "execute_result"
    }
   ],
   "source": [
    "df= pd.read_csv('C:/Techlabs/myntradataset/styles.csv',error_bad_lines=False)\n",
    "\n",
    "df.head()"
   ]
  },
  {
   "cell_type": "code",
   "execution_count": 4,
   "id": "e3f4c3da",
   "metadata": {},
   "outputs": [
    {
     "data": {
      "text/plain": [
       "Index(['id', 'gender', 'masterCategory', 'subCategory', 'articleType',\n",
       "       'baseColour', 'season', 'year', 'usage', 'productDisplayName'],\n",
       "      dtype='object')"
      ]
     },
     "execution_count": 4,
     "metadata": {},
     "output_type": "execute_result"
    }
   ],
   "source": [
    "df = df.dropna()\n",
    "df.nunique()\n",
    "df.columns"
   ]
  },
  {
   "cell_type": "code",
   "execution_count": 5,
   "id": "e8c47441",
   "metadata": {},
   "outputs": [
    {
     "name": "stdout",
     "output_type": "stream",
     "text": [
      "Article types used:  Index(['Tshirts', 'Shirts', 'Casual Shoes', 'Watches', 'Sports Shoes',\n",
      "       'Kurtas', 'Tops', 'Handbags', 'Heels', 'Sunglasses'],\n",
      "      dtype='object')\n"
     ]
    }
   ],
   "source": [
    "value_counts = df['articleType'].value_counts()\n",
    "\n",
    "indexes = value_counts.index\n",
    "\n",
    "values = value_counts.values\n",
    "\n",
    "for i in range(len(value_counts)):\n",
    "\n",
    "    if values[i] <1000:\n",
    "        break\n",
    "\n",
    "types_used = indexes[:i]\n",
    "print('Article types used: ',types_used)"
   ]
  },
  {
   "cell_type": "code",
   "execution_count": 6,
   "id": "52bc6a9c",
   "metadata": {},
   "outputs": [
    {
     "name": "stdout",
     "output_type": "stream",
     "text": [
      "Base Colours used:  Index(['Black', 'White', 'Blue', 'Brown', 'Grey', 'Red', 'Green', 'Pink',\n",
      "       'Navy Blue', 'Purple', 'Silver'],\n",
      "      dtype='object')\n"
     ]
    }
   ],
   "source": [
    "value_counts = df['baseColour'].value_counts()\n",
    "\n",
    "indexes = value_counts.index\n",
    "\n",
    "values = value_counts.values\n",
    "\n",
    "for i in range(len(value_counts)):\n",
    "\n",
    "    if values[i] <1000:\n",
    "        break\n",
    "\n",
    "colours_used = indexes[:i]\n",
    "print('Base Colours used: ',colours_used)"
   ]
  },
  {
   "cell_type": "code",
   "execution_count": 7,
   "id": "a80fc533",
   "metadata": {},
   "outputs": [
    {
     "name": "stdout",
     "output_type": "stream",
     "text": [
      "master Category used:  Index(['Apparel', 'Accessories', 'Footwear', 'Personal Care'], dtype='object')\n"
     ]
    }
   ],
   "source": [
    "value_counts = df['masterCategory'].value_counts()\n",
    "\n",
    "indexes = value_counts.index\n",
    "\n",
    "values = value_counts.values\n",
    "\n",
    "for i in range(len(value_counts)):\n",
    "\n",
    "    if values[i] <1000:\n",
    "        break\n",
    "\n",
    "Category_used = indexes[:i]\n",
    "print('master Category used: ',Category_used)"
   ]
  },
  {
   "cell_type": "code",
   "execution_count": 8,
   "id": "841ee7ad",
   "metadata": {},
   "outputs": [
    {
     "name": "stdout",
     "output_type": "stream",
     "text": [
      "sub Category used:  Index(['Topwear', 'Shoes', 'Bags', 'Bottomwear', 'Watches', 'Innerwear',\n",
      "       'Jewellery', 'Eyewear', 'Fragrance'],\n",
      "      dtype='object')\n"
     ]
    }
   ],
   "source": [
    "value_counts = df['subCategory'].value_counts()\n",
    "\n",
    "indexes = value_counts.index\n",
    "\n",
    "values = value_counts.values\n",
    "\n",
    "for i in range(len(value_counts)):\n",
    "\n",
    "    if values[i] <1000:\n",
    "        break\n",
    "\n",
    "subCategory_used = indexes[:i]\n",
    "print('sub Category used: ',subCategory_used)"
   ]
  },
  {
   "cell_type": "code",
   "execution_count": 10,
   "id": "c6aa05f4",
   "metadata": {},
   "outputs": [],
   "source": [
    "df = df[df['articleType'].isin(types_used)]\n",
    "df = df[df['baseColour'].isin(colours_used)]\n",
    "df = df[df['masterCategory'].isin(Category_used)]\n",
    "df = df[df['subCategory'].isin(subCategory_used)]"
   ]
  },
  {
   "cell_type": "code",
   "execution_count": 11,
   "id": "3f468ce6",
   "metadata": {},
   "outputs": [
    {
     "data": {
      "text/plain": [
       "21832"
      ]
     },
     "execution_count": 11,
     "metadata": {},
     "output_type": "execute_result"
    }
   ],
   "source": [
    "len(df)"
   ]
  },
  {
   "cell_type": "code",
   "execution_count": 12,
   "id": "16914d10",
   "metadata": {},
   "outputs": [
    {
     "name": "stdout",
     "output_type": "stream",
     "text": [
      "WARNING:tensorflow:From C:\\Anaconda\\lib\\site-packages\\keras\\src\\losses.py:2976: The name tf.losses.sparse_softmax_cross_entropy is deprecated. Please use tf.compat.v1.losses.sparse_softmax_cross_entropy instead.\n",
      "\n"
     ]
    }
   ],
   "source": [
    "data = []\n",
    "\n",
    "# Reading all the images and processing the data in them \n",
    "\n",
    "from tensorflow.keras.preprocessing.image import img_to_array\n",
    "import cv2\n",
    "\n",
    "IX = 80\n",
    "IY = 60\n",
    "\n",
    "invalid_ids = []\n",
    "\n",
    "for name in df.id:\n",
    "\n",
    "    try:\n",
    "        image = cv2.imread('C:/Techlabs/myntradataset/images/'+str(name)+'.jpg')\n",
    "        image = cv2.resize(image, (IX,IY) )\n",
    "        image = img_to_array(image)\n",
    "        data.append(image)        \n",
    "    except: \n",
    "        # Images for certain ids are missing, so they are not added to the dataset  \n",
    "        invalid_ids.append(name)"
   ]
  },
  {
   "cell_type": "code",
   "execution_count": 15,
   "id": "c49af2fd",
   "metadata": {},
   "outputs": [],
   "source": [
    "labels = []\n",
    "\n",
    "used_columns = ['subCategory','baseColour', 'articleType', 'masterCategory']\n",
    "\n",
    "# getting labels for the columns used\n",
    "\n",
    "for index, row in df.iterrows():\n",
    "\n",
    "    if row['id'] in invalid_ids:\n",
    "        continue\n",
    "\n",
    "    tags = []\n",
    "\n",
    "    for col in used_columns:\n",
    "        tags.append(row[col])\n",
    "\n",
    "    labels.append(tags)"
   ]
  },
  {
   "cell_type": "code",
   "execution_count": 16,
   "id": "9a60a530",
   "metadata": {},
   "outputs": [
    {
     "name": "stdout",
     "output_type": "stream",
     "text": [
      "[['Topwear' 'Navy Blue' 'Shirts' 'Apparel']\n",
      " ['Watches' 'Silver' 'Watches' 'Accessories']\n",
      " ['Topwear' 'Grey' 'Tshirts' 'Apparel']\n",
      " ...\n",
      " ['Shoes' 'White' 'Casual Shoes' 'Footwear']\n",
      " ['Topwear' 'Blue' 'Tshirts' 'Apparel']\n",
      " ['Watches' 'Pink' 'Watches' 'Accessories']]\n"
     ]
    }
   ],
   "source": [
    "import numpy as np\n",
    "\n",
    "# converting data into numpy arrays\n",
    "\n",
    "data = np.array(data, dtype=\"float\") / 255.0\n",
    "labels = np.array(labels)\n",
    "\n",
    "print(labels)"
   ]
  },
  {
   "cell_type": "code",
   "execution_count": 20,
   "id": "6ec7c862",
   "metadata": {},
   "outputs": [
    {
     "name": "stdout",
     "output_type": "stream",
     "text": [
      "['Accessories' 'Apparel' 'Bags' 'Black' 'Blue' 'Brown' 'Casual Shoes'\n",
      " 'Eyewear' 'Footwear' 'Green' 'Grey' 'Handbags' 'Heels' 'Kurtas'\n",
      " 'Navy Blue' 'Pink' 'Purple' 'Red' 'Shirts' 'Shoes' 'Silver'\n",
      " 'Sports Shoes' 'Sunglasses' 'Tops' 'Topwear' 'Tshirts' 'Watches' 'White']\n",
      "[0 1 0 0 0 0 0 0 0 0 0 0 0 0 1 0 0 0 1 0 0 0 0 0 1 0 0 0]\n"
     ]
    }
   ],
   "source": [
    "# creating a binary vector for the input labels \n",
    "\n",
    "mlb = MultiLabelBinarizer()\n",
    "labels = mlb.fit_transform(labels)\n",
    "\n",
    "print(mlb.classes_)\n",
    "print(labels[0])"
   ]
  },
  {
   "cell_type": "code",
   "execution_count": 24,
   "id": "90e4d009",
   "metadata": {},
   "outputs": [],
   "source": [
    "inputShape = (60, 80, 3)\n",
    "\n",
    "# A very simple sequential model is used since the images are very low resolution and the categories are fiarly distinct\n",
    "\n",
    "model = Sequential()\n",
    "\n",
    "model.add(Conv2D(32, (3, 3), padding=\"same\",input_shape=inputShape))\n",
    "model.add(Activation(\"relu\"))\n",
    "model.add(MaxPooling2D(pool_size=(2, 2)))\n",
    "model.add(Dropout(0.2))\n",
    "\n",
    "model.add(Conv2D(64, (3, 3)))\n",
    "model.add(Activation('relu'))\n",
    "model.add(MaxPooling2D(pool_size=(2, 2)))\n",
    "model.add(Dropout(0.2))\n",
    "\n",
    "model.add(Flatten()) \n",
    "\n",
    "model.add(Dense(128))\n",
    "model.add(Activation('sigmoid'))\n",
    "\n",
    "\n",
    "out = len(mlb.classes_)\n",
    "\n",
    "model.add(Dense(out))\n",
    "model.add(Activation('sigmoid')) # activation function for the final layer has to be sigmoid, since mutiple output labels can have value 1\n",
    "                    \n",
    "model.compile(loss='binary_crossentropy', # loss function has to be binary_crossentropy, it is calculated seperately for each of the outputs\n",
    "              optimizer='adam',\n",
    "              metrics=['mse'])"
   ]
  },
  {
   "cell_type": "code",
   "execution_count": 25,
   "id": "0d9f9ad8",
   "metadata": {},
   "outputs": [],
   "source": [
    "from sklearn.model_selection import train_test_split\n",
    "\n",
    "# splitting data into testing and training set \n",
    "\n",
    "(trainX, testX, trainY, testY) = train_test_split(data,labels, test_size=0.1, random_state=42)"
   ]
  },
  {
   "cell_type": "code",
   "execution_count": 26,
   "id": "9da990cd",
   "metadata": {
    "scrolled": false
   },
   "outputs": [
    {
     "name": "stdout",
     "output_type": "stream",
     "text": [
      "Epoch 1/50\n",
      "614/614 [==============================] - 21s 32ms/step - loss: 0.3472 - mse: 0.1039\n",
      "Epoch 2/50\n",
      "614/614 [==============================] - 20s 33ms/step - loss: 0.3424 - mse: 0.1021\n",
      "Epoch 3/50\n",
      "614/614 [==============================] - 20s 33ms/step - loss: 0.3424 - mse: 0.1021\n",
      "Epoch 4/50\n",
      "614/614 [==============================] - 20s 33ms/step - loss: 0.3340 - mse: 0.0991\n",
      "Epoch 5/50\n",
      "614/614 [==============================] - 20s 33ms/step - loss: 0.1750 - mse: 0.0493\n",
      "Epoch 6/50\n",
      "614/614 [==============================] - 20s 33ms/step - loss: 0.1474 - mse: 0.0422\n",
      "Epoch 7/50\n",
      "614/614 [==============================] - 20s 33ms/step - loss: 0.1384 - mse: 0.0397\n",
      "Epoch 8/50\n",
      "614/614 [==============================] - 20s 33ms/step - loss: 0.1332 - mse: 0.0382\n",
      "Epoch 9/50\n",
      "614/614 [==============================] - 20s 33ms/step - loss: 0.1301 - mse: 0.0373\n",
      "Epoch 10/50\n",
      "614/614 [==============================] - 21s 33ms/step - loss: 0.1266 - mse: 0.0364\n",
      "Epoch 11/50\n",
      "614/614 [==============================] - 20s 33ms/step - loss: 0.1243 - mse: 0.0357\n",
      "Epoch 12/50\n",
      "614/614 [==============================] - 20s 33ms/step - loss: 0.1224 - mse: 0.0351\n",
      "Epoch 13/50\n",
      "614/614 [==============================] - 20s 33ms/step - loss: 0.1204 - mse: 0.0345\n",
      "Epoch 14/50\n",
      "614/614 [==============================] - 20s 33ms/step - loss: 0.1185 - mse: 0.0339\n",
      "Epoch 15/50\n",
      "614/614 [==============================] - 21s 34ms/step - loss: 0.1164 - mse: 0.0333\n",
      "Epoch 16/50\n",
      "614/614 [==============================] - 20s 33ms/step - loss: 0.1145 - mse: 0.0328\n",
      "Epoch 17/50\n",
      "614/614 [==============================] - 20s 33ms/step - loss: 0.1130 - mse: 0.0323\n",
      "Epoch 18/50\n",
      "614/614 [==============================] - 20s 33ms/step - loss: 0.1123 - mse: 0.0321\n",
      "Epoch 19/50\n",
      "614/614 [==============================] - 20s 33ms/step - loss: 0.1109 - mse: 0.0317\n",
      "Epoch 20/50\n",
      "614/614 [==============================] - 20s 33ms/step - loss: 0.1102 - mse: 0.0315\n",
      "Epoch 21/50\n",
      "614/614 [==============================] - 21s 34ms/step - loss: 0.1089 - mse: 0.0312\n",
      "Epoch 22/50\n",
      "614/614 [==============================] - 21s 34ms/step - loss: 0.1077 - mse: 0.0309\n",
      "Epoch 23/50\n",
      "614/614 [==============================] - 20s 33ms/step - loss: 0.1064 - mse: 0.0305\n",
      "Epoch 24/50\n",
      "614/614 [==============================] - 20s 33ms/step - loss: 0.1051 - mse: 0.0302\n",
      "Epoch 25/50\n",
      "614/614 [==============================] - 20s 33ms/step - loss: 0.1036 - mse: 0.0298\n",
      "Epoch 26/50\n",
      "614/614 [==============================] - 20s 33ms/step - loss: 0.1014 - mse: 0.0292\n",
      "Epoch 27/50\n",
      "614/614 [==============================] - 20s 33ms/step - loss: 0.0986 - mse: 0.0285\n",
      "Epoch 28/50\n",
      "614/614 [==============================] - 20s 33ms/step - loss: 0.0966 - mse: 0.0280\n",
      "Epoch 29/50\n",
      "614/614 [==============================] - 20s 33ms/step - loss: 0.0944 - mse: 0.0274\n",
      "Epoch 30/50\n",
      "614/614 [==============================] - 20s 33ms/step - loss: 0.0924 - mse: 0.0269\n",
      "Epoch 31/50\n",
      "614/614 [==============================] - 20s 33ms/step - loss: 0.0913 - mse: 0.0266\n",
      "Epoch 32/50\n",
      "614/614 [==============================] - 20s 33ms/step - loss: 0.0899 - mse: 0.0262\n",
      "Epoch 33/50\n",
      "614/614 [==============================] - 20s 33ms/step - loss: 0.0884 - mse: 0.0258\n",
      "Epoch 34/50\n",
      "614/614 [==============================] - 20s 33ms/step - loss: 0.0872 - mse: 0.0255\n",
      "Epoch 35/50\n",
      "614/614 [==============================] - 20s 33ms/step - loss: 0.0859 - mse: 0.0251\n",
      "Epoch 36/50\n",
      "614/614 [==============================] - 20s 33ms/step - loss: 0.0849 - mse: 0.0249\n",
      "Epoch 37/50\n",
      "614/614 [==============================] - 20s 33ms/step - loss: 0.0835 - mse: 0.0244\n",
      "Epoch 38/50\n",
      "614/614 [==============================] - 20s 33ms/step - loss: 0.0830 - mse: 0.0243\n",
      "Epoch 39/50\n",
      "614/614 [==============================] - 21s 34ms/step - loss: 0.0813 - mse: 0.0238\n",
      "Epoch 40/50\n",
      "614/614 [==============================] - 21s 34ms/step - loss: 0.0803 - mse: 0.0235\n",
      "Epoch 41/50\n",
      "614/614 [==============================] - 20s 33ms/step - loss: 0.0800 - mse: 0.0234\n",
      "Epoch 42/50\n",
      "614/614 [==============================] - 20s 33ms/step - loss: 0.0786 - mse: 0.0230\n",
      "Epoch 43/50\n",
      "614/614 [==============================] - 20s 33ms/step - loss: 0.0781 - mse: 0.0229\n",
      "Epoch 44/50\n",
      "614/614 [==============================] - 20s 33ms/step - loss: 0.0771 - mse: 0.0225\n",
      "Epoch 45/50\n",
      "614/614 [==============================] - 20s 33ms/step - loss: 0.0760 - mse: 0.0222\n",
      "Epoch 46/50\n",
      "614/614 [==============================] - 20s 33ms/step - loss: 0.0753 - mse: 0.0220\n",
      "Epoch 47/50\n",
      "614/614 [==============================] - 20s 33ms/step - loss: 0.0742 - mse: 0.0217\n",
      "Epoch 48/50\n",
      "614/614 [==============================] - 20s 33ms/step - loss: 0.0733 - mse: 0.0214\n",
      "Epoch 49/50\n",
      "614/614 [==============================] - 20s 33ms/step - loss: 0.0722 - mse: 0.0210\n",
      "Epoch 50/50\n",
      "614/614 [==============================] - 20s 33ms/step - loss: 0.0708 - mse: 0.0206\n"
     ]
    }
   ],
   "source": [
    "batch = 32\n",
    "\n",
    "\n",
    "#training the model \n",
    "history=model.fit(x=trainX,y=trainY,\n",
    "          epochs=50 ,verbose=1)"
   ]
  },
  {
   "cell_type": "code",
   "execution_count": 27,
   "id": "13967fac",
   "metadata": {},
   "outputs": [
    {
     "name": "stdout",
     "output_type": "stream",
     "text": [
      "69/69 [==============================] - 1s 7ms/step\n",
      "correct:  3439\n",
      "missing/wrong:  927\n",
      "Accuracy:  0.7876775080164911\n"
     ]
    }
   ],
   "source": [
    "preds = model.predict(testX)\n",
    "\n",
    "\n",
    "# since the predictions of the model are sigmoid, we will first binarize them to 0 or 1\n",
    "pred_binarized = []\n",
    "\n",
    "for pred in preds:\n",
    "    vals = []\n",
    "    for val in pred:\n",
    "        if val > 0.5:\n",
    "            vals.append(1)\n",
    "        else:\n",
    "            vals.append(0)\n",
    "    pred_binarized.append(vals) \n",
    "\n",
    "pred_binarized = np.array(pred_binarized)   \n",
    "\n",
    "\n",
    "# we convert the output vectors to the predicted labels\n",
    "true_test_labels = mlb.inverse_transform(testY)\n",
    "pred_test_labels = mlb.inverse_transform(pred_binarized)\n",
    "\n",
    "correct = 0\n",
    "wrong = 0\n",
    "\n",
    "# Evaluating the predictions of the model\n",
    "\n",
    "for i in range(len(testY)):\n",
    "\n",
    "    true_labels = list(true_test_labels[i])\n",
    "\n",
    "    pred_labels = list(pred_test_labels[i])\n",
    "\n",
    "    label1 = true_labels[0]\n",
    "    label2 = true_labels[1]\n",
    "\n",
    "    if label1 in pred_labels:\n",
    "        correct+=1\n",
    "    else:\n",
    "        wrong+=1\n",
    "\n",
    "    if label2 in pred_labels:\n",
    "        correct+=1\n",
    "    else:\n",
    "        wrong+=1    \n",
    "\n",
    "\n",
    "\n",
    "print('correct: ', correct)\n",
    "print('missing/wrong: ', wrong)\n",
    "print('Accuracy: ',correct/(correct+wrong))"
   ]
  },
  {
   "cell_type": "code",
   "execution_count": 29,
   "id": "40185d90",
   "metadata": {},
   "outputs": [
    {
     "data": {
      "text/plain": [
       "array([[0, 1, 0, ..., 0, 0, 0],\n",
       "       [1, 0, 0, ..., 0, 1, 0],\n",
       "       [0, 1, 0, ..., 1, 0, 0],\n",
       "       ...,\n",
       "       [0, 0, 0, ..., 0, 0, 1],\n",
       "       [0, 1, 0, ..., 1, 0, 0],\n",
       "       [1, 0, 0, ..., 0, 1, 0]])"
      ]
     },
     "execution_count": 29,
     "metadata": {},
     "output_type": "execute_result"
    }
   ],
   "source": [
    "labels"
   ]
  },
  {
   "cell_type": "code",
   "execution_count": 31,
   "id": "8607eae9",
   "metadata": {},
   "outputs": [],
   "source": [
    "df['filename'] = df['id'].apply(lambda x: os.path.join(str(x)+\".jpg\"))\n",
    "image_dir = 'C:/Techlabs/myntradataset/images/'\n",
    "image_paths = image_dir + df['filename']"
   ]
  },
  {
   "cell_type": "code",
   "execution_count": 63,
   "id": "431825ca",
   "metadata": {},
   "outputs": [
    {
     "data": {
      "image/png": "[encoded data removed]",
      "text/plain": [
       "<Figure size 640x480 with 1 Axes>"
      ]
     },
     "metadata": {},
     "output_type": "display_data"
    },
    {
     "name": "stdout",
     "output_type": "stream",
     "text": [
      "1/1 [==============================] - 0s 17ms/step\n",
      "Predicted classes: [('Accessories', 'Bags', 'Black', 'Handbags')]\n"
     ]
    }
   ],
   "source": [
    "def preprocess_image(image_path):\n",
    "    # Load the image\n",
    "    image = cv2.imread(image_path)\n",
    "    # Preprocess the image as needed (resize, normalize, etc.)\n",
    "    # Example preprocessing steps:\n",
    "    image = cv2.resize(image, (80, 60))  # Resize the image\n",
    "    image = image / 255.0  # Normalize pixel values to [0, 1]\n",
    "    return image\n",
    "\n",
    "# Select a random image path\n",
    "random_image_path = np.random.choice(image_paths)\n",
    "\n",
    "# Preprocess the random image\n",
    "input_image = preprocess_image(random_image_path)\n",
    "# Expand the dimensions of the image to match the input shape expected by your model\n",
    "input_image = np.expand_dims(input_image, axis=0)\n",
    "\n",
    "# Display the preprocessed image using Matplotlib\n",
    "plt.imshow(input_image[0], interpolation='nearest')\n",
    "plt.show()\n",
    "\n",
    "class_probabilities = model.predict(input_image)\n",
    "\n",
    "# Threshold the probabilities to get the predicted classes\n",
    "threshold = 0.5  # You can adjust this threshold as per your requirement\n",
    "predicted_classes = (class_probabilities > threshold).astype(int)\n",
    "\n",
    "# Get the actual class labels using MultiLabelBinarizer\n",
    "predicted_labels = mlb.inverse_transform(predicted_classes)\n",
    "\n",
    "print(\"Predicted classes:\", predicted_labels)\n",
    "\n"
   ]
  },
  {
   "cell_type": "code",
   "execution_count": null,
   "id": "358d947c",
   "metadata": {},
   "outputs": [],
   "source": []
  }
 ],
 "metadata": {
  "kernelspec": {
   "display_name": "Python 3 (ipykernel)",
   "language": "python",
   "name": "python3"
  },
  "language_info": {
   "codemirror_mode": {
    "name": "ipython",
    "version": 3
   },
   "file_extension": ".py",
   "mimetype": "text/x-python",
   "name": "python",
   "nbconvert_exporter": "python",
   "pygments_lexer": "ipython3",
   "version": "3.10.9"
  }
 },
 "nbformat": 4,
 "nbformat_minor": 5
}
